{
 "cells": [
  {
   "cell_type": "markdown",
   "id": "1447db8b",
   "metadata": {
    "_cell_guid": "b1076dfc-b9ad-4769-8c92-a6c4dae69d19",
    "_uuid": "8f2839f25d086af736a60e9eeb907d3b93b6e0e5",
    "papermill": {
     "duration": 0.014826,
     "end_time": "2023-06-16T12:29:39.379154",
     "exception": false,
     "start_time": "2023-06-16T12:29:39.364328",
     "status": "completed"
    },
    "tags": []
   },
   "source": [
    "## **Formatação de Espaço em Branco**"
   ]
  },
  {
   "cell_type": "markdown",
   "id": "85147ad0",
   "metadata": {
    "papermill": {
     "duration": 0.013584,
     "end_time": "2023-06-16T12:29:39.406760",
     "exception": false,
     "start_time": "2023-06-16T12:29:39.393176",
     "status": "completed"
    },
    "tags": []
   },
   "source": []
  },
  {
   "cell_type": "code",
   "execution_count": 1,
   "id": "939fb232",
   "metadata": {
    "execution": {
     "iopub.execute_input": "2023-06-16T12:29:39.437727Z",
     "iopub.status.busy": "2023-06-16T12:29:39.436933Z",
     "iopub.status.idle": "2023-06-16T12:29:39.454490Z",
     "shell.execute_reply": "2023-06-16T12:29:39.453643Z"
    },
    "papermill": {
     "duration": 0.035968,
     "end_time": "2023-06-16T12:29:39.457626",
     "exception": false,
     "start_time": "2023-06-16T12:29:39.421658",
     "status": "completed"
    },
    "tags": []
   },
   "outputs": [
    {
     "name": "stdout",
     "output_type": "stream",
     "text": [
      "1\n",
      "1\n",
      "2\n",
      "2\n",
      "3\n",
      "3\n",
      "4\n",
      "4\n",
      "5\n",
      "5\n",
      "6\n",
      "1\n",
      "2\n",
      "1\n",
      "3\n",
      "2\n",
      "4\n",
      "3\n",
      "5\n",
      "4\n",
      "6\n",
      "5\n",
      "7\n",
      "2\n",
      "3\n",
      "1\n",
      "4\n",
      "2\n",
      "5\n",
      "3\n",
      "6\n",
      "4\n",
      "7\n",
      "5\n",
      "8\n",
      "3\n",
      "4\n",
      "1\n",
      "5\n",
      "2\n",
      "6\n",
      "3\n",
      "7\n",
      "4\n",
      "8\n",
      "5\n",
      "9\n",
      "4\n",
      "5\n",
      "1\n",
      "6\n",
      "2\n",
      "7\n",
      "3\n",
      "8\n",
      "4\n",
      "9\n",
      "5\n",
      "10\n",
      "5\n",
      "done looping\n"
     ]
    }
   ],
   "source": [
    "for i in [1, 2, 3, 4, 5]:\n",
    "    print (i) # primeira linha para o bloco “for i”\n",
    "    for j in [1, 2, 3, 4, 5]:\n",
    "        print (j) # primeira linha para o bloco “for j”\n",
    "        print (i + j) # última linha para o bloco “for j”\n",
    "    print (i) # última linha para o bloco “for i”\n",
    "print (\"done looping\")\n"
   ]
  },
  {
   "cell_type": "code",
   "execution_count": 2,
   "id": "7b1a1d55",
   "metadata": {
    "execution": {
     "iopub.execute_input": "2023-06-16T12:29:39.488065Z",
     "iopub.status.busy": "2023-06-16T12:29:39.487205Z",
     "iopub.status.idle": "2023-06-16T12:29:39.494284Z",
     "shell.execute_reply": "2023-06-16T12:29:39.492889Z"
    },
    "papermill": {
     "duration": 0.025511,
     "end_time": "2023-06-16T12:29:39.497247",
     "exception": false,
     "start_time": "2023-06-16T12:29:39.471736",
     "status": "completed"
    },
    "tags": []
   },
   "outputs": [],
   "source": [
    "long_winded_computation = (1 + 2 + 3 + 4 + 5 + 6 + 7 + 8 + 9 + 10 + 11 + 12 +\n",
    "13 + 14 + 15 + 16 + 17 + 18 + 19 + 20)\n"
   ]
  },
  {
   "cell_type": "code",
   "execution_count": 3,
   "id": "5f2c2b59",
   "metadata": {
    "execution": {
     "iopub.execute_input": "2023-06-16T12:29:39.528564Z",
     "iopub.status.busy": "2023-06-16T12:29:39.528148Z",
     "iopub.status.idle": "2023-06-16T12:29:39.535000Z",
     "shell.execute_reply": "2023-06-16T12:29:39.533400Z"
    },
    "papermill": {
     "duration": 0.026079,
     "end_time": "2023-06-16T12:29:39.538102",
     "exception": false,
     "start_time": "2023-06-16T12:29:39.512023",
     "status": "completed"
    },
    "tags": []
   },
   "outputs": [],
   "source": [
    "list_of_lists = [[1, 2, 3], [4, 5, 6], [7, 8, 9]]\n",
    "easier_to_read_list_of_lists = [ [1, 2, 3],\n",
    "[4, 5, 6],\n",
    "[7, 8, 9] ]"
   ]
  },
  {
   "cell_type": "code",
   "execution_count": 4,
   "id": "a2437002",
   "metadata": {
    "execution": {
     "iopub.execute_input": "2023-06-16T12:29:39.568807Z",
     "iopub.status.busy": "2023-06-16T12:29:39.568413Z",
     "iopub.status.idle": "2023-06-16T12:29:39.576686Z",
     "shell.execute_reply": "2023-06-16T12:29:39.575593Z"
    },
    "papermill": {
     "duration": 0.026912,
     "end_time": "2023-06-16T12:29:39.579161",
     "exception": false,
     "start_time": "2023-06-16T12:29:39.552249",
     "status": "completed"
    },
    "tags": []
   },
   "outputs": [
    {
     "data": {
      "text/plain": [
       "[[1, 2, 3], [4, 5, 6], [7, 8, 9]]"
      ]
     },
     "execution_count": 4,
     "metadata": {},
     "output_type": "execute_result"
    }
   ],
   "source": [
    "list_of_lists"
   ]
  },
  {
   "cell_type": "code",
   "execution_count": 5,
   "id": "99e8ce98",
   "metadata": {
    "execution": {
     "iopub.execute_input": "2023-06-16T12:29:39.610351Z",
     "iopub.status.busy": "2023-06-16T12:29:39.609899Z",
     "iopub.status.idle": "2023-06-16T12:29:39.617665Z",
     "shell.execute_reply": "2023-06-16T12:29:39.616467Z"
    },
    "papermill": {
     "duration": 0.026787,
     "end_time": "2023-06-16T12:29:39.620195",
     "exception": false,
     "start_time": "2023-06-16T12:29:39.593408",
     "status": "completed"
    },
    "tags": []
   },
   "outputs": [
    {
     "data": {
      "text/plain": [
       "[[1, 2, 3], [4, 5, 6], [7, 8, 9]]"
      ]
     },
     "execution_count": 5,
     "metadata": {},
     "output_type": "execute_result"
    }
   ],
   "source": [
    "easier_to_read_list_of_lists \n"
   ]
  },
  {
   "cell_type": "code",
   "execution_count": 6,
   "id": "8d489858",
   "metadata": {
    "execution": {
     "iopub.execute_input": "2023-06-16T12:29:39.651467Z",
     "iopub.status.busy": "2023-06-16T12:29:39.651088Z",
     "iopub.status.idle": "2023-06-16T12:29:39.657637Z",
     "shell.execute_reply": "2023-06-16T12:29:39.656279Z"
    },
    "papermill": {
     "duration": 0.025234,
     "end_time": "2023-06-16T12:29:39.660292",
     "exception": false,
     "start_time": "2023-06-16T12:29:39.635058",
     "status": "completed"
    },
    "tags": []
   },
   "outputs": [
    {
     "data": {
      "text/plain": [
       "5"
      ]
     },
     "execution_count": 6,
     "metadata": {},
     "output_type": "execute_result"
    }
   ],
   "source": [
    "two_plus_three = 2 + \\\n",
    "3\n",
    "two_plus_three"
   ]
  },
  {
   "cell_type": "code",
   "execution_count": 7,
   "id": "862d3dac",
   "metadata": {
    "execution": {
     "iopub.execute_input": "2023-06-16T12:29:39.692113Z",
     "iopub.status.busy": "2023-06-16T12:29:39.691748Z",
     "iopub.status.idle": "2023-06-16T12:29:39.697689Z",
     "shell.execute_reply": "2023-06-16T12:29:39.696436Z"
    },
    "papermill": {
     "duration": 0.025685,
     "end_time": "2023-06-16T12:29:39.700529",
     "exception": false,
     "start_time": "2023-06-16T12:29:39.674844",
     "status": "completed"
    },
    "tags": []
   },
   "outputs": [
    {
     "name": "stdout",
     "output_type": "stream",
     "text": [
      "1\n",
      "2\n",
      "3\n",
      "4\n",
      "5\n"
     ]
    }
   ],
   "source": [
    "for i in [1, 2, 3, 4, 5]:\n",
    "# note a linha em branco\n",
    "    print (i)\n"
   ]
  },
  {
   "cell_type": "markdown",
   "id": "bdbbd47a",
   "metadata": {
    "papermill": {
     "duration": 0.014235,
     "end_time": "2023-06-16T12:29:39.729432",
     "exception": false,
     "start_time": "2023-06-16T12:29:39.715197",
     "status": "completed"
    },
    "tags": []
   },
   "source": [
    "## **Módulos**"
   ]
  },
  {
   "cell_type": "markdown",
   "id": "ee7fe68f",
   "metadata": {
    "papermill": {
     "duration": 0.01418,
     "end_time": "2023-06-16T12:29:39.758267",
     "exception": false,
     "start_time": "2023-06-16T12:29:39.744087",
     "status": "completed"
    },
    "tags": []
   },
   "source": []
  },
  {
   "cell_type": "code",
   "execution_count": 8,
   "id": "05303f51",
   "metadata": {
    "execution": {
     "iopub.execute_input": "2023-06-16T12:29:39.790200Z",
     "iopub.status.busy": "2023-06-16T12:29:39.789818Z",
     "iopub.status.idle": "2023-06-16T12:29:39.797089Z",
     "shell.execute_reply": "2023-06-16T12:29:39.796120Z"
    },
    "papermill": {
     "duration": 0.025974,
     "end_time": "2023-06-16T12:29:39.799355",
     "exception": false,
     "start_time": "2023-06-16T12:29:39.773381",
     "status": "completed"
    },
    "tags": []
   },
   "outputs": [
    {
     "data": {
      "text/plain": [
       "re.compile(r'[0-9]+', re.IGNORECASE|re.UNICODE)"
      ]
     },
     "execution_count": 8,
     "metadata": {},
     "output_type": "execute_result"
    }
   ],
   "source": [
    "import re\n",
    "my_regex = re.compile(\"[0-9]+\", re.I)\n",
    "my_regex"
   ]
  },
  {
   "cell_type": "code",
   "execution_count": 9,
   "id": "83bb5544",
   "metadata": {
    "execution": {
     "iopub.execute_input": "2023-06-16T12:29:39.830842Z",
     "iopub.status.busy": "2023-06-16T12:29:39.830414Z",
     "iopub.status.idle": "2023-06-16T12:29:39.839076Z",
     "shell.execute_reply": "2023-06-16T12:29:39.837649Z"
    },
    "papermill": {
     "duration": 0.027846,
     "end_time": "2023-06-16T12:29:39.841849",
     "exception": false,
     "start_time": "2023-06-16T12:29:39.814003",
     "status": "completed"
    },
    "tags": []
   },
   "outputs": [
    {
     "data": {
      "text/plain": [
       "re.compile(r'[0-9]+', re.IGNORECASE|re.UNICODE)"
      ]
     },
     "execution_count": 9,
     "metadata": {},
     "output_type": "execute_result"
    }
   ],
   "source": [
    "import re as regex\n",
    "my_regex = regex.compile(\"[0-9]+\", regex.I)\n",
    "my_regex"
   ]
  },
  {
   "cell_type": "code",
   "execution_count": 10,
   "id": "75386c7c",
   "metadata": {
    "execution": {
     "iopub.execute_input": "2023-06-16T12:29:39.875314Z",
     "iopub.status.busy": "2023-06-16T12:29:39.874677Z",
     "iopub.status.idle": "2023-06-16T12:29:39.879883Z",
     "shell.execute_reply": "2023-06-16T12:29:39.878724Z"
    },
    "papermill": {
     "duration": 0.025322,
     "end_time": "2023-06-16T12:29:39.882195",
     "exception": false,
     "start_time": "2023-06-16T12:29:39.856873",
     "status": "completed"
    },
    "tags": []
   },
   "outputs": [],
   "source": [
    "import matplotlib.pyplot as plt\n"
   ]
  },
  {
   "cell_type": "code",
   "execution_count": 11,
   "id": "c2b84ed4",
   "metadata": {
    "execution": {
     "iopub.execute_input": "2023-06-16T12:29:39.913986Z",
     "iopub.status.busy": "2023-06-16T12:29:39.913595Z",
     "iopub.status.idle": "2023-06-16T12:29:39.919451Z",
     "shell.execute_reply": "2023-06-16T12:29:39.918239Z"
    },
    "papermill": {
     "duration": 0.024817,
     "end_time": "2023-06-16T12:29:39.922065",
     "exception": false,
     "start_time": "2023-06-16T12:29:39.897248",
     "status": "completed"
    },
    "tags": []
   },
   "outputs": [],
   "source": [
    "from collections import defaultdict, Counter\n",
    "lookup = defaultdict(int)\n",
    "my_counter = Counter()\n"
   ]
  },
  {
   "cell_type": "markdown",
   "id": "64cbc8c8",
   "metadata": {
    "papermill": {
     "duration": 0.014634,
     "end_time": "2023-06-16T12:29:39.951645",
     "exception": false,
     "start_time": "2023-06-16T12:29:39.937011",
     "status": "completed"
    },
    "tags": []
   },
   "source": [
    "## **Aritmética**"
   ]
  },
  {
   "cell_type": "code",
   "execution_count": 12,
   "id": "e77bedaa",
   "metadata": {
    "execution": {
     "iopub.execute_input": "2023-06-16T12:29:39.983011Z",
     "iopub.status.busy": "2023-06-16T12:29:39.982642Z",
     "iopub.status.idle": "2023-06-16T12:29:39.988928Z",
     "shell.execute_reply": "2023-06-16T12:29:39.987683Z"
    },
    "papermill": {
     "duration": 0.024938,
     "end_time": "2023-06-16T12:29:39.991512",
     "exception": false,
     "start_time": "2023-06-16T12:29:39.966574",
     "status": "completed"
    },
    "tags": []
   },
   "outputs": [
    {
     "name": "stdout",
     "output_type": "stream",
     "text": [
      "<function match at 0x7d09fd5285e0>\n"
     ]
    }
   ],
   "source": [
    "match = 10\n",
    "from re import * # ih não, re tem uma função que combinação\n",
    "print (match) # \"<function re.match>\""
   ]
  },
  {
   "cell_type": "code",
   "execution_count": 13,
   "id": "ae3f224b",
   "metadata": {
    "execution": {
     "iopub.execute_input": "2023-06-16T12:29:40.023960Z",
     "iopub.status.busy": "2023-06-16T12:29:40.023580Z",
     "iopub.status.idle": "2023-06-16T12:29:40.030593Z",
     "shell.execute_reply": "2023-06-16T12:29:40.029122Z"
    },
    "papermill": {
     "duration": 0.026956,
     "end_time": "2023-06-16T12:29:40.033466",
     "exception": false,
     "start_time": "2023-06-16T12:29:40.006510",
     "status": "completed"
    },
    "tags": []
   },
   "outputs": [
    {
     "data": {
      "text/plain": [
       "1.0"
      ]
     },
     "execution_count": 13,
     "metadata": {},
     "output_type": "execute_result"
    }
   ],
   "source": [
    "2/2"
   ]
  },
  {
   "cell_type": "code",
   "execution_count": 14,
   "id": "7496c740",
   "metadata": {
    "execution": {
     "iopub.execute_input": "2023-06-16T12:29:40.066695Z",
     "iopub.status.busy": "2023-06-16T12:29:40.066197Z",
     "iopub.status.idle": "2023-06-16T12:29:40.073927Z",
     "shell.execute_reply": "2023-06-16T12:29:40.072939Z"
    },
    "papermill": {
     "duration": 0.026986,
     "end_time": "2023-06-16T12:29:40.076031",
     "exception": false,
     "start_time": "2023-06-16T12:29:40.049045",
     "status": "completed"
    },
    "tags": []
   },
   "outputs": [
    {
     "data": {
      "text/plain": [
       "2.5"
      ]
     },
     "execution_count": 14,
     "metadata": {},
     "output_type": "execute_result"
    }
   ],
   "source": [
    "5/2"
   ]
  },
  {
   "cell_type": "code",
   "execution_count": 15,
   "id": "b1c10503",
   "metadata": {
    "execution": {
     "iopub.execute_input": "2023-06-16T12:29:40.109352Z",
     "iopub.status.busy": "2023-06-16T12:29:40.108927Z",
     "iopub.status.idle": "2023-06-16T12:29:40.116428Z",
     "shell.execute_reply": "2023-06-16T12:29:40.115210Z"
    },
    "papermill": {
     "duration": 0.026592,
     "end_time": "2023-06-16T12:29:40.118897",
     "exception": false,
     "start_time": "2023-06-16T12:29:40.092305",
     "status": "completed"
    },
    "tags": []
   },
   "outputs": [
    {
     "data": {
      "text/plain": [
       "0.4"
      ]
     },
     "execution_count": 15,
     "metadata": {},
     "output_type": "execute_result"
    }
   ],
   "source": [
    "from __future__ import division\n",
    "2/5"
   ]
  },
  {
   "cell_type": "code",
   "execution_count": 16,
   "id": "f0f21c62",
   "metadata": {
    "execution": {
     "iopub.execute_input": "2023-06-16T12:29:40.151483Z",
     "iopub.status.busy": "2023-06-16T12:29:40.151059Z",
     "iopub.status.idle": "2023-06-16T12:29:40.158179Z",
     "shell.execute_reply": "2023-06-16T12:29:40.156873Z"
    },
    "papermill": {
     "duration": 0.026169,
     "end_time": "2023-06-16T12:29:40.160506",
     "exception": false,
     "start_time": "2023-06-16T12:29:40.134337",
     "status": "completed"
    },
    "tags": []
   },
   "outputs": [
    {
     "data": {
      "text/plain": [
       "2.5"
      ]
     },
     "execution_count": 16,
     "metadata": {},
     "output_type": "execute_result"
    }
   ],
   "source": [
    "5/2"
   ]
  },
  {
   "cell_type": "code",
   "execution_count": 17,
   "id": "62ec8d96",
   "metadata": {
    "execution": {
     "iopub.execute_input": "2023-06-16T12:29:40.193530Z",
     "iopub.status.busy": "2023-06-16T12:29:40.193110Z",
     "iopub.status.idle": "2023-06-16T12:29:40.200477Z",
     "shell.execute_reply": "2023-06-16T12:29:40.199322Z"
    },
    "papermill": {
     "duration": 0.026728,
     "end_time": "2023-06-16T12:29:40.202902",
     "exception": false,
     "start_time": "2023-06-16T12:29:40.176174",
     "status": "completed"
    },
    "tags": []
   },
   "outputs": [
    {
     "data": {
      "text/plain": [
       "2"
      ]
     },
     "execution_count": 17,
     "metadata": {},
     "output_type": "execute_result"
    }
   ],
   "source": [
    "5//2"
   ]
  },
  {
   "cell_type": "markdown",
   "id": "cd40ec5d",
   "metadata": {
    "papermill": {
     "duration": 0.015353,
     "end_time": "2023-06-16T12:29:40.234048",
     "exception": false,
     "start_time": "2023-06-16T12:29:40.218695",
     "status": "completed"
    },
    "tags": []
   },
   "source": [
    "## **Funções**"
   ]
  },
  {
   "cell_type": "markdown",
   "id": "809c37a7",
   "metadata": {
    "papermill": {
     "duration": 0.015295,
     "end_time": "2023-06-16T12:29:40.265000",
     "exception": false,
     "start_time": "2023-06-16T12:29:40.249705",
     "status": "completed"
    },
    "tags": []
   },
   "source": []
  },
  {
   "cell_type": "code",
   "execution_count": 18,
   "id": "05a3af52",
   "metadata": {
    "execution": {
     "iopub.execute_input": "2023-06-16T12:29:40.298390Z",
     "iopub.status.busy": "2023-06-16T12:29:40.297994Z",
     "iopub.status.idle": "2023-06-16T12:29:40.303647Z",
     "shell.execute_reply": "2023-06-16T12:29:40.302485Z"
    },
    "papermill": {
     "duration": 0.025113,
     "end_time": "2023-06-16T12:29:40.305983",
     "exception": false,
     "start_time": "2023-06-16T12:29:40.280870",
     "status": "completed"
    },
    "tags": []
   },
   "outputs": [],
   "source": [
    "def double(x):\n",
    "    \"\"\"aqui é onde você coloca um docstring (cadeia de caracteres de documentação) opcional\n",
    "    que explica o que a função faz.\n",
    "    por exemplo, esta função multiplica sua entrada por 2\"\"\"\n",
    "    return x * 2\n"
   ]
  },
  {
   "cell_type": "code",
   "execution_count": 19,
   "id": "5c253b7e",
   "metadata": {
    "execution": {
     "iopub.execute_input": "2023-06-16T12:29:40.341264Z",
     "iopub.status.busy": "2023-06-16T12:29:40.340875Z",
     "iopub.status.idle": "2023-06-16T12:29:40.348018Z",
     "shell.execute_reply": "2023-06-16T12:29:40.346833Z"
    },
    "papermill": {
     "duration": 0.028613,
     "end_time": "2023-06-16T12:29:40.350528",
     "exception": false,
     "start_time": "2023-06-16T12:29:40.321915",
     "status": "completed"
    },
    "tags": []
   },
   "outputs": [
    {
     "data": {
      "text/plain": [
       "20"
      ]
     },
     "execution_count": 19,
     "metadata": {},
     "output_type": "execute_result"
    }
   ],
   "source": [
    "double(10)"
   ]
  },
  {
   "cell_type": "code",
   "execution_count": 20,
   "id": "1816dc4e",
   "metadata": {
    "execution": {
     "iopub.execute_input": "2023-06-16T12:29:40.384990Z",
     "iopub.status.busy": "2023-06-16T12:29:40.384618Z",
     "iopub.status.idle": "2023-06-16T12:29:40.389747Z",
     "shell.execute_reply": "2023-06-16T12:29:40.388641Z"
    },
    "papermill": {
     "duration": 0.025102,
     "end_time": "2023-06-16T12:29:40.392325",
     "exception": false,
     "start_time": "2023-06-16T12:29:40.367223",
     "status": "completed"
    },
    "tags": []
   },
   "outputs": [],
   "source": [
    "def apply_to_one(f):\n",
    "    \"\"\"chama a função f com 1 como seu argumento\"\"\"\n",
    "    return f(1)\n"
   ]
  },
  {
   "cell_type": "code",
   "execution_count": 21,
   "id": "b1f7ebca",
   "metadata": {
    "execution": {
     "iopub.execute_input": "2023-06-16T12:29:40.426979Z",
     "iopub.status.busy": "2023-06-16T12:29:40.426581Z",
     "iopub.status.idle": "2023-06-16T12:29:40.430991Z",
     "shell.execute_reply": "2023-06-16T12:29:40.430155Z"
    },
    "papermill": {
     "duration": 0.024381,
     "end_time": "2023-06-16T12:29:40.433448",
     "exception": false,
     "start_time": "2023-06-16T12:29:40.409067",
     "status": "completed"
    },
    "tags": []
   },
   "outputs": [],
   "source": [
    "my_double = double # refere-se à função definida anteriormente\n",
    "x = apply_to_one(my_double) # é igual a 2"
   ]
  },
  {
   "cell_type": "code",
   "execution_count": 22,
   "id": "c99f698c",
   "metadata": {
    "execution": {
     "iopub.execute_input": "2023-06-16T12:29:40.469948Z",
     "iopub.status.busy": "2023-06-16T12:29:40.469537Z",
     "iopub.status.idle": "2023-06-16T12:29:40.476718Z",
     "shell.execute_reply": "2023-06-16T12:29:40.475618Z"
    },
    "papermill": {
     "duration": 0.027516,
     "end_time": "2023-06-16T12:29:40.479192",
     "exception": false,
     "start_time": "2023-06-16T12:29:40.451676",
     "status": "completed"
    },
    "tags": []
   },
   "outputs": [
    {
     "data": {
      "text/plain": [
       "5"
      ]
     },
     "execution_count": 22,
     "metadata": {},
     "output_type": "execute_result"
    }
   ],
   "source": [
    "y = apply_to_one(lambda x: x + 4) # é igual a 5\n",
    "y"
   ]
  },
  {
   "cell_type": "code",
   "execution_count": 23,
   "id": "c6bd778a",
   "metadata": {
    "execution": {
     "iopub.execute_input": "2023-06-16T12:29:40.514422Z",
     "iopub.status.busy": "2023-06-16T12:29:40.514055Z",
     "iopub.status.idle": "2023-06-16T12:29:40.520903Z",
     "shell.execute_reply": "2023-06-16T12:29:40.519714Z"
    },
    "papermill": {
     "duration": 0.028298,
     "end_time": "2023-06-16T12:29:40.523395",
     "exception": false,
     "start_time": "2023-06-16T12:29:40.495097",
     "status": "completed"
    },
    "tags": []
   },
   "outputs": [
    {
     "data": {
      "text/plain": [
       "2"
      ]
     },
     "execution_count": 23,
     "metadata": {},
     "output_type": "execute_result"
    }
   ],
   "source": [
    "x"
   ]
  },
  {
   "cell_type": "code",
   "execution_count": 24,
   "id": "9ad59763",
   "metadata": {
    "execution": {
     "iopub.execute_input": "2023-06-16T12:29:40.557911Z",
     "iopub.status.busy": "2023-06-16T12:29:40.557495Z",
     "iopub.status.idle": "2023-06-16T12:29:40.562825Z",
     "shell.execute_reply": "2023-06-16T12:29:40.561641Z"
    },
    "papermill": {
     "duration": 0.025069,
     "end_time": "2023-06-16T12:29:40.565060",
     "exception": false,
     "start_time": "2023-06-16T12:29:40.539991",
     "status": "completed"
    },
    "tags": []
   },
   "outputs": [],
   "source": [
    "another_double = lambda x: 2 * x # não faça isso\n",
    "def another_double1(x): return 2 * x # faça isso\n"
   ]
  },
  {
   "cell_type": "code",
   "execution_count": 25,
   "id": "f6036716",
   "metadata": {
    "execution": {
     "iopub.execute_input": "2023-06-16T12:29:40.598801Z",
     "iopub.status.busy": "2023-06-16T12:29:40.598384Z",
     "iopub.status.idle": "2023-06-16T12:29:40.605126Z",
     "shell.execute_reply": "2023-06-16T12:29:40.603967Z"
    },
    "papermill": {
     "duration": 0.026435,
     "end_time": "2023-06-16T12:29:40.607592",
     "exception": false,
     "start_time": "2023-06-16T12:29:40.581157",
     "status": "completed"
    },
    "tags": []
   },
   "outputs": [
    {
     "data": {
      "text/plain": [
       "<function __main__.<lambda>(x)>"
      ]
     },
     "execution_count": 25,
     "metadata": {},
     "output_type": "execute_result"
    }
   ],
   "source": [
    "another_double\n"
   ]
  },
  {
   "cell_type": "code",
   "execution_count": 26,
   "id": "40fce682",
   "metadata": {
    "execution": {
     "iopub.execute_input": "2023-06-16T12:29:40.643557Z",
     "iopub.status.busy": "2023-06-16T12:29:40.642938Z",
     "iopub.status.idle": "2023-06-16T12:29:40.650031Z",
     "shell.execute_reply": "2023-06-16T12:29:40.648800Z"
    },
    "papermill": {
     "duration": 0.027639,
     "end_time": "2023-06-16T12:29:40.652321",
     "exception": false,
     "start_time": "2023-06-16T12:29:40.624682",
     "status": "completed"
    },
    "tags": []
   },
   "outputs": [
    {
     "data": {
      "text/plain": [
       "<function __main__.another_double1(x)>"
      ]
     },
     "execution_count": 26,
     "metadata": {},
     "output_type": "execute_result"
    }
   ],
   "source": [
    "another_double1"
   ]
  },
  {
   "cell_type": "code",
   "execution_count": 27,
   "id": "3bd1457e",
   "metadata": {
    "execution": {
     "iopub.execute_input": "2023-06-16T12:29:40.687823Z",
     "iopub.status.busy": "2023-06-16T12:29:40.687419Z",
     "iopub.status.idle": "2023-06-16T12:29:40.693472Z",
     "shell.execute_reply": "2023-06-16T12:29:40.691863Z"
    },
    "papermill": {
     "duration": 0.027468,
     "end_time": "2023-06-16T12:29:40.696445",
     "exception": false,
     "start_time": "2023-06-16T12:29:40.668977",
     "status": "completed"
    },
    "tags": []
   },
   "outputs": [
    {
     "name": "stdout",
     "output_type": "stream",
     "text": [
      "hello\n",
      "my default message\n"
     ]
    }
   ],
   "source": [
    "def my_print(message=\"my default message\"):\n",
    "    print (message)\n",
    "my_print(\"hello\") # exibe 'hello'\n",
    "my_print() # exibe 'my default message'"
   ]
  },
  {
   "cell_type": "code",
   "execution_count": 28,
   "id": "693e75c3",
   "metadata": {
    "execution": {
     "iopub.execute_input": "2023-06-16T12:29:40.732160Z",
     "iopub.status.busy": "2023-06-16T12:29:40.731713Z",
     "iopub.status.idle": "2023-06-16T12:29:40.739063Z",
     "shell.execute_reply": "2023-06-16T12:29:40.738122Z"
    },
    "papermill": {
     "duration": 0.028157,
     "end_time": "2023-06-16T12:29:40.741317",
     "exception": false,
     "start_time": "2023-06-16T12:29:40.713160",
     "status": "completed"
    },
    "tags": []
   },
   "outputs": [
    {
     "data": {
      "text/plain": [
       "5"
      ]
     },
     "execution_count": 28,
     "metadata": {},
     "output_type": "execute_result"
    }
   ],
   "source": [
    "def subtract(a=0, b=0):\n",
    "    return a - b\n",
    "subtract(10, 5) # retorna S"
   ]
  },
  {
   "cell_type": "code",
   "execution_count": 29,
   "id": "5dc516c4",
   "metadata": {
    "execution": {
     "iopub.execute_input": "2023-06-16T12:29:40.779182Z",
     "iopub.status.busy": "2023-06-16T12:29:40.778358Z",
     "iopub.status.idle": "2023-06-16T12:29:40.786216Z",
     "shell.execute_reply": "2023-06-16T12:29:40.785034Z"
    },
    "papermill": {
     "duration": 0.028658,
     "end_time": "2023-06-16T12:29:40.788654",
     "exception": false,
     "start_time": "2023-06-16T12:29:40.759996",
     "status": "completed"
    },
    "tags": []
   },
   "outputs": [
    {
     "data": {
      "text/plain": [
       "-5"
      ]
     },
     "execution_count": 29,
     "metadata": {},
     "output_type": "execute_result"
    }
   ],
   "source": [
    "subtract(0, 5) # retorna -S"
   ]
  },
  {
   "cell_type": "code",
   "execution_count": 30,
   "id": "2d4aae40",
   "metadata": {
    "execution": {
     "iopub.execute_input": "2023-06-16T12:29:40.825900Z",
     "iopub.status.busy": "2023-06-16T12:29:40.824376Z",
     "iopub.status.idle": "2023-06-16T12:29:40.831688Z",
     "shell.execute_reply": "2023-06-16T12:29:40.830771Z"
    },
    "papermill": {
     "duration": 0.028331,
     "end_time": "2023-06-16T12:29:40.833944",
     "exception": false,
     "start_time": "2023-06-16T12:29:40.805613",
     "status": "completed"
    },
    "tags": []
   },
   "outputs": [
    {
     "data": {
      "text/plain": [
       "-5"
      ]
     },
     "execution_count": 30,
     "metadata": {},
     "output_type": "execute_result"
    }
   ],
   "source": [
    "subtract(b=5) # mesmo que o anterior"
   ]
  },
  {
   "cell_type": "markdown",
   "id": "af105167",
   "metadata": {
    "papermill": {
     "duration": 0.016637,
     "end_time": "2023-06-16T12:29:40.867590",
     "exception": false,
     "start_time": "2023-06-16T12:29:40.850953",
     "status": "completed"
    },
    "tags": []
   },
   "source": [
    "## **Strings (cadeias de caracteres)**"
   ]
  },
  {
   "cell_type": "markdown",
   "id": "bf5337c1",
   "metadata": {
    "papermill": {
     "duration": 0.017318,
     "end_time": "2023-06-16T12:29:40.902200",
     "exception": false,
     "start_time": "2023-06-16T12:29:40.884882",
     "status": "completed"
    },
    "tags": []
   },
   "source": []
  },
  {
   "cell_type": "code",
   "execution_count": 31,
   "id": "938a2b45",
   "metadata": {
    "execution": {
     "iopub.execute_input": "2023-06-16T12:29:40.938712Z",
     "iopub.status.busy": "2023-06-16T12:29:40.937712Z",
     "iopub.status.idle": "2023-06-16T12:29:40.944384Z",
     "shell.execute_reply": "2023-06-16T12:29:40.943561Z"
    },
    "papermill": {
     "duration": 0.02754,
     "end_time": "2023-06-16T12:29:40.946626",
     "exception": false,
     "start_time": "2023-06-16T12:29:40.919086",
     "status": "completed"
    },
    "tags": []
   },
   "outputs": [
    {
     "data": {
      "text/plain": [
       "'data science'"
      ]
     },
     "execution_count": 31,
     "metadata": {},
     "output_type": "execute_result"
    }
   ],
   "source": [
    "single_quoted_string = 'data science'\n",
    "double_quoted_string = \"data science\"\n",
    "single_quoted_string"
   ]
  },
  {
   "cell_type": "code",
   "execution_count": 32,
   "id": "48d5507f",
   "metadata": {
    "execution": {
     "iopub.execute_input": "2023-06-16T12:29:40.982634Z",
     "iopub.status.busy": "2023-06-16T12:29:40.981864Z",
     "iopub.status.idle": "2023-06-16T12:29:40.989237Z",
     "shell.execute_reply": "2023-06-16T12:29:40.988121Z"
    },
    "papermill": {
     "duration": 0.028039,
     "end_time": "2023-06-16T12:29:40.991750",
     "exception": false,
     "start_time": "2023-06-16T12:29:40.963711",
     "status": "completed"
    },
    "tags": []
   },
   "outputs": [
    {
     "data": {
      "text/plain": [
       "'data science'"
      ]
     },
     "execution_count": 32,
     "metadata": {},
     "output_type": "execute_result"
    }
   ],
   "source": [
    "double_quoted_string"
   ]
  },
  {
   "cell_type": "code",
   "execution_count": 33,
   "id": "19ae9fb3",
   "metadata": {
    "execution": {
     "iopub.execute_input": "2023-06-16T12:29:41.031382Z",
     "iopub.status.busy": "2023-06-16T12:29:41.030968Z",
     "iopub.status.idle": "2023-06-16T12:29:41.038106Z",
     "shell.execute_reply": "2023-06-16T12:29:41.036952Z"
    },
    "papermill": {
     "duration": 0.030459,
     "end_time": "2023-06-16T12:29:41.040644",
     "exception": false,
     "start_time": "2023-06-16T12:29:41.010185",
     "status": "completed"
    },
    "tags": []
   },
   "outputs": [
    {
     "data": {
      "text/plain": [
       "1"
      ]
     },
     "execution_count": 33,
     "metadata": {},
     "output_type": "execute_result"
    }
   ],
   "source": [
    "tab_string = \"\\t\" # representa o caractere tab\n",
    "len(tab_string) # é 1"
   ]
  },
  {
   "cell_type": "code",
   "execution_count": 34,
   "id": "dc86fd53",
   "metadata": {
    "execution": {
     "iopub.execute_input": "2023-06-16T12:29:41.077386Z",
     "iopub.status.busy": "2023-06-16T12:29:41.076966Z",
     "iopub.status.idle": "2023-06-16T12:29:41.083816Z",
     "shell.execute_reply": "2023-06-16T12:29:41.082582Z"
    },
    "papermill": {
     "duration": 0.028005,
     "end_time": "2023-06-16T12:29:41.086172",
     "exception": false,
     "start_time": "2023-06-16T12:29:41.058167",
     "status": "completed"
    },
    "tags": []
   },
   "outputs": [
    {
     "data": {
      "text/plain": [
       "'\\t'"
      ]
     },
     "execution_count": 34,
     "metadata": {},
     "output_type": "execute_result"
    }
   ],
   "source": [
    "tab_string"
   ]
  },
  {
   "cell_type": "markdown",
   "id": "51aa42af",
   "metadata": {
    "papermill": {
     "duration": 0.017254,
     "end_time": "2023-06-16T12:29:41.121139",
     "exception": false,
     "start_time": "2023-06-16T12:29:41.103885",
     "status": "completed"
    },
    "tags": []
   },
   "source": []
  },
  {
   "cell_type": "markdown",
   "id": "13e3c423",
   "metadata": {
    "papermill": {
     "duration": 0.017005,
     "end_time": "2023-06-16T12:29:41.155672",
     "exception": false,
     "start_time": "2023-06-16T12:29:41.138667",
     "status": "completed"
    },
    "tags": []
   },
   "source": []
  },
  {
   "cell_type": "code",
   "execution_count": 35,
   "id": "a9909d84",
   "metadata": {
    "execution": {
     "iopub.execute_input": "2023-06-16T12:29:41.194531Z",
     "iopub.status.busy": "2023-06-16T12:29:41.194101Z",
     "iopub.status.idle": "2023-06-16T12:29:41.201895Z",
     "shell.execute_reply": "2023-06-16T12:29:41.200281Z"
    },
    "papermill": {
     "duration": 0.029796,
     "end_time": "2023-06-16T12:29:41.204475",
     "exception": false,
     "start_time": "2023-06-16T12:29:41.174679",
     "status": "completed"
    },
    "tags": []
   },
   "outputs": [
    {
     "data": {
      "text/plain": [
       "2"
      ]
     },
     "execution_count": 35,
     "metadata": {},
     "output_type": "execute_result"
    }
   ],
   "source": [
    "not_tab_string = r\"\\t\" # representa os caracteres '\\' e 't'\n",
    "len(not_tab_string) # é 2"
   ]
  },
  {
   "cell_type": "code",
   "execution_count": 36,
   "id": "3dd82eb0",
   "metadata": {
    "execution": {
     "iopub.execute_input": "2023-06-16T12:29:41.242447Z",
     "iopub.status.busy": "2023-06-16T12:29:41.242051Z",
     "iopub.status.idle": "2023-06-16T12:29:41.247578Z",
     "shell.execute_reply": "2023-06-16T12:29:41.246301Z"
    },
    "papermill": {
     "duration": 0.026995,
     "end_time": "2023-06-16T12:29:41.249949",
     "exception": false,
     "start_time": "2023-06-16T12:29:41.222954",
     "status": "completed"
    },
    "tags": []
   },
   "outputs": [],
   "source": [
    "multi_line_string = \"\"\"esta é a primeira linha.\n",
    "e esta é a segunda\n",
    "e esta é a terceira\"\"\""
   ]
  },
  {
   "cell_type": "code",
   "execution_count": 37,
   "id": "b12bebf3",
   "metadata": {
    "execution": {
     "iopub.execute_input": "2023-06-16T12:29:41.287920Z",
     "iopub.status.busy": "2023-06-16T12:29:41.287527Z",
     "iopub.status.idle": "2023-06-16T12:29:41.294412Z",
     "shell.execute_reply": "2023-06-16T12:29:41.293282Z"
    },
    "papermill": {
     "duration": 0.029201,
     "end_time": "2023-06-16T12:29:41.296798",
     "exception": false,
     "start_time": "2023-06-16T12:29:41.267597",
     "status": "completed"
    },
    "tags": []
   },
   "outputs": [
    {
     "data": {
      "text/plain": [
       "'esta é a primeira linha.\\ne esta é a segunda\\ne esta é a terceira'"
      ]
     },
     "execution_count": 37,
     "metadata": {},
     "output_type": "execute_result"
    }
   ],
   "source": [
    "multi_line_string"
   ]
  },
  {
   "cell_type": "markdown",
   "id": "b70dc936",
   "metadata": {
    "papermill": {
     "duration": 0.017258,
     "end_time": "2023-06-16T12:29:41.331734",
     "exception": false,
     "start_time": "2023-06-16T12:29:41.314476",
     "status": "completed"
    },
    "tags": []
   },
   "source": [
    "## **Exceções**"
   ]
  },
  {
   "cell_type": "code",
   "execution_count": null,
   "id": "9448d929",
   "metadata": {
    "papermill": {
     "duration": 0.017363,
     "end_time": "2023-06-16T12:29:41.366817",
     "exception": false,
     "start_time": "2023-06-16T12:29:41.349454",
     "status": "completed"
    },
    "tags": []
   },
   "outputs": [],
   "source": []
  }
 ],
 "metadata": {
  "kernelspec": {
   "display_name": "Python 3",
   "language": "python",
   "name": "python3"
  },
  "language_info": {
   "codemirror_mode": {
    "name": "ipython",
    "version": 3
   },
   "file_extension": ".py",
   "mimetype": "text/x-python",
   "name": "python",
   "nbconvert_exporter": "python",
   "pygments_lexer": "ipython3",
   "version": "3.10.10"
  },
  "papermill": {
   "default_parameters": {},
   "duration": 16.608572,
   "end_time": "2023-06-16T12:29:42.307456",
   "environment_variables": {},
   "exception": null,
   "input_path": "__notebook__.ipynb",
   "output_path": "__notebook__.ipynb",
   "parameters": {},
   "start_time": "2023-06-16T12:29:25.698884",
   "version": "2.4.0"
  }
 },
 "nbformat": 4,
 "nbformat_minor": 5
}
